{
  "cells": [
    {
      "cell_type": "code",
      "execution_count": null,
      "id": "3dbc82b9-b12c-4804-afe8-cbb2da2ec0c4",
      "metadata": {
        "id": "3dbc82b9-b12c-4804-afe8-cbb2da2ec0c4"
      },
      "outputs": [],
      "source": [
        "!pip install ultralytics --q\n",
        "!pip install matplotlib --q\n",
        "!pip install pandas --q"
      ]
    },
    {
      "cell_type": "code",
      "execution_count": null,
      "id": "2376c987-a513-4266-a350-4c366a74c3b0",
      "metadata": {
        "id": "2376c987-a513-4266-a350-4c366a74c3b0"
      },
      "outputs": [],
      "source": [
        "# download dataset from kaggle\n",
        "\n",
        "import kagglehub\n",
        "\n",
        "# Download latest version\n",
        "path = kagglehub.dataset_download(\"ouical/dl-hydro-data\")\n",
        "\n",
        "print(\"Path to dataset files:\", path)"
      ]
    },
    {
      "cell_type": "code",
      "execution_count": null,
      "id": "d270c31d-445e-4bfc-9b29-027b1256e8f0",
      "metadata": {
        "id": "d270c31d-445e-4bfc-9b29-027b1256e8f0"
      },
      "outputs": [],
      "source": [
        "\n",
        "from ultralytics import YOLO\n",
        "model = YOLO(\"yolov8n.pt\")\n",
        "\n",
        "model.train(\n",
        "    data=\"fusion_dataset_balanced_290/data.yaml\",\n",
        "    epochs=15,\n",
        "    imgsz=640,\n",
        "    batch=10,\n",
        "    device=0,\n",
        "    workers=4,\n",
        "    mosaic=1.0,\n",
        "    mixup=0.2,\n",
        "    copy_paste=0.2,\n",
        "    scale=0.5,\n",
        "    fliplr=0.5,\n",
        "    degrees=15,\n",
        "    hsv_h=0.02,\n",
        "    hsv_s=0.7,\n",
        "    hsv_v=0.4\n",
        ")"
      ]
    },
    {
      "cell_type": "markdown",
      "source": [],
      "metadata": {
        "id": "VRVqdISIOTNA"
      },
      "id": "VRVqdISIOTNA"
    },
    {
      "cell_type": "code",
      "source": [
        "\n",
        "from ultralytics import YOLO\n",
        "model = YOLO(\"yolov8n.pt\")\n",
        "\n",
        "model.train(\n",
        "    data=\"fusion_dataset_balanced_290/data.yaml\",\n",
        "    epochs=15,\n",
        "    imgsz=640,\n",
        "    batch=10,\n",
        "    device=0,\n",
        "    workers=4,\n",
        "    mosaic=1.0,\n",
        "    mixup=0.2,\n",
        "    copy_paste=0.2,\n",
        "    scale=0.5,\n",
        "    fliplr=0.5,\n",
        "    degrees=15,\n",
        "    hsv_h=0.02,\n",
        "    hsv_s=0.7,\n",
        "    hsv_v=0.4\n",
        ")"
      ],
      "metadata": {
        "id": "ind9DOT_OUPO"
      },
      "id": "ind9DOT_OUPO",
      "execution_count": null,
      "outputs": []
    },
    {
      "cell_type": "code",
      "execution_count": null,
      "id": "e6843cd6-8dcc-4095-b95c-dc608bc052f0",
      "metadata": {
        "id": "e6843cd6-8dcc-4095-b95c-dc608bc052f0"
      },
      "outputs": [],
      "source": [
        "model = YOLO(\"runs/detect/train10/weights/best.pt\")\n",
        "\n",
        "# evaluate model on the valid dataset\n",
        "metrics = model.val()\n",
        "\n",
        "# principal metrics\n",
        "print(\"Precision:\", metrics.results_dict['metrics/precision(B)'])\n",
        "print(\"Recall:\", metrics.results_dict['metrics/recall(B)'])\n",
        "print(\"mAP50:\", metrics.results_dict['metrics/mAP50(B)'])\n",
        "print(\"mAP50-95:\", metrics.results_dict['metrics/mAP50-95(B)'])"
      ]
    }
  ],
  "metadata": {
    "kernelspec": {
      "display_name": "Python 3 (ipykernel)",
      "language": "python",
      "name": "python3"
    },
    "language_info": {
      "codemirror_mode": {
        "name": "ipython",
        "version": 3
      },
      "file_extension": ".py",
      "mimetype": "text/x-python",
      "name": "python",
      "nbconvert_exporter": "python",
      "pygments_lexer": "ipython3",
      "version": "3.13.7"
    },
    "colab": {
      "provenance": []
    }
  },
  "nbformat": 4,
  "nbformat_minor": 5
}